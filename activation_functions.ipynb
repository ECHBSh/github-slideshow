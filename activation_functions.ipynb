{
  "nbformat": 4,
  "nbformat_minor": 0,
  "metadata": {
    "colab": {
      "name": "activation functions.ipynb",
      "provenance": [],
      "include_colab_link": true
    },
    "kernelspec": {
      "name": "python3",
      "display_name": "Python 3"
    },
    "language_info": {
      "name": "python"
    }
  },
  "cells": [
    {
      "cell_type": "markdown",
      "metadata": {
        "id": "view-in-github",
        "colab_type": "text"
      },
      "source": [
        "<a href=\"https://colab.research.google.com/github/ECHBSh/github-slideshow/blob/master/activation_functions.ipynb\" target=\"_parent\"><img src=\"https://colab.research.google.com/assets/colab-badge.svg\" alt=\"Open In Colab\"/></a>"
      ]
    },
    {
      "cell_type": "code",
      "metadata": {
        "id": "VhD7R28aTYl5"
      },
      "source": [
        ""
      ],
      "execution_count": null,
      "outputs": []
    },
    {
      "cell_type": "code",
      "metadata": {
        "id": "CtEwtXCmAC5j",
        "colab": {
          "base_uri": "https://localhost:8080/",
          "height": 299
        },
        "outputId": "685571be-d3df-4e90-e400-7e3389286541"
      },
      "source": [
        "#binary step\n",
        "import numpy as np \n",
        "import matplotlib.pyplot as plt\n",
        "\n",
        "n = range(-20, 20, 1)\n",
        "y = []\n",
        "for i in range(len(n)):\n",
        "    temp = (1 if n[i]>=0 else 0)\n",
        "    y.append(temp)\n",
        "    \n",
        "print(n)\n",
        "print(y)\n",
        "\n",
        "#plotting the graph\n",
        "plt.plot(n, y)\n",
        "#plt.axis([-20.1, 50.1, -0.1, 1.2])\n",
        "plt.show()\n"
      ],
      "execution_count": null,
      "outputs": [
        {
          "output_type": "stream",
          "text": [
            "range(-20, 20)\n",
            "[0, 0, 0, 0, 0, 0, 0, 0, 0, 0, 0, 0, 0, 0, 0, 0, 0, 0, 0, 0, 1, 1, 1, 1, 1, 1, 1, 1, 1, 1, 1, 1, 1, 1, 1, 1, 1, 1, 1, 1]\n"
          ],
          "name": "stdout"
        },
        {
          "output_type": "display_data",
          "data": {
            "image/png": "[encoded data removed]",
            "text/plain": [
              "<Figure size 432x288 with 1 Axes>"
            ]
          },
          "metadata": {
            "tags": [],
            "needs_background": "light"
          }
        }
      ]
    },
    {
      "cell_type": "markdown",
      "metadata": {
        "id": "-bhphWhuTNFE"
      },
      "source": [
        "# New section"
      ]
    },
    {
      "cell_type": "code",
      "metadata": {
        "colab": {
          "base_uri": "https://localhost:8080/",
          "height": 300
        },
        "id": "RnfWU21UF2VD",
        "outputId": "027ad74e-5513-47e7-a906-f5b0c118e778"
      },
      "source": [
        "#Ramp\n",
        "n = range(-2, 6, 1)\n",
        "y = []\n",
        "for i in range(len(n)):\n",
        "    temp = (n[i] if n[i]>=0 else 0)\n",
        "    y.append(temp)\n",
        "    \n",
        "print(list(n))\n",
        "print(y)\n",
        "\n",
        "\n",
        "#plotting the graph\n",
        "plt.plot(n, y)\n",
        "#plt.axis([-20.1, 50.1, -0.1, 1.2])\n",
        "plt.show()\n"
      ],
      "execution_count": null,
      "outputs": [
        {
          "output_type": "stream",
          "text": [
            "[-2, -1, 0, 1, 2, 3, 4, 5]\n",
            "[0, 0, 0, 1, 2, 3, 4, 5]\n"
          ],
          "name": "stdout"
        },
        {
          "output_type": "display_data",
          "data": {
            "image/png": "[encoded data removed]",
            "text/plain": [
              "<Figure size 432x288 with 1 Axes>"
            ]
          },
          "metadata": {
            "tags": [],
            "needs_background": "light"
          }
        }
      ]
    },
    {
      "cell_type": "code",
      "metadata": {
        "colab": {
          "base_uri": "https://localhost:8080/",
          "height": 265
        },
        "id": "1v_gBCFUGM5T",
        "outputId": "6f3f721c-191c-4fb7-b852-5287c4fad640"
      },
      "source": [
        "#Exponantial \n",
        "a = 0.9\n",
        "n = range(0, 26, 1)\n",
        "y = []\n",
        "\n",
        "for i in range(len(n)):\n",
        "    temp = a**n[i]\n",
        "    y.append(temp)\n",
        "\n",
        "#plotting the graph\n",
        "plt.plot(n, y)\n",
        "#plt.axis([-20.1, 50.1, -0.1, 1.2])\n",
        "plt.show()"
      ],
      "execution_count": null,
      "outputs": [
        {
          "output_type": "display_data",
          "data": {
            "image/png": "[encoded data removed]",
            "text/plain": [
              "<Figure size 432x288 with 1 Axes>"
            ]
          },
          "metadata": {
            "tags": [],
            "needs_background": "light"
          }
        }
      ]
    },
    {
      "cell_type": "code",
      "metadata": {
        "colab": {
          "base_uri": "https://localhost:8080/"
        },
        "id": "WqX18mqW9K4-",
        "outputId": "91fd369e-9506-4168-be95-44a377933c94"
      },
      "source": [
        "#Sigmoid\n",
        "import matplotlib.pyplot as plt\n",
        "import numpy as np\n",
        "\n",
        "def sigmoid(x):\n",
        "    s=1/(1+np.exp(-x))\n",
        "    #ds=s*(1-s)  \n",
        "    #return s,ds\n",
        "    return s\n",
        "x=np.arange(-6,6,0.01)\n",
        "sigmoid(x)"
      ],
      "execution_count": null,
      "outputs": [
        {
          "output_type": "execute_result",
          "data": {
            "text/plain": [
              "array([0.00247262, 0.00249741, 0.00252245, ..., 0.99745227, 0.99747755,\n",
              "       0.99750259])"
            ]
          },
          "metadata": {
            "tags": []
          },
          "execution_count": 3
        }
      ]
    },
    {
      "cell_type": "code",
      "metadata": {
        "id": "xIWAI9gV-wNe",
        "colab": {
          "base_uri": "https://localhost:8080/",
          "height": 283
        },
        "outputId": "62c93cad-c012-4be2-9d0a-32d58e4534f2"
      },
      "source": [
        "plt.plot(x,sigmoid(x))"
      ],
      "execution_count": null,
      "outputs": [
        {
          "output_type": "execute_result",
          "data": {
            "text/plain": [
              "[<matplotlib.lines.Line2D at 0x7fbc2603b4d0>]"
            ]
          },
          "metadata": {
            "tags": []
          },
          "execution_count": 4
        },
        {
          "output_type": "display_data",
          "data": {
            "image/png": "[encoded data removed]",
            "text/plain": [
              "<Figure size 432x288 with 1 Axes>"
            ]
          },
          "metadata": {
            "tags": [],
            "needs_background": "light"
          }
        }
      ]
    },
    {
      "cell_type": "code",
      "metadata": {
        "id": "AiYl94AR9VNT",
        "colab": {
          "base_uri": "https://localhost:8080/"
        },
        "outputId": "4ebcc075-6ebd-4047-fe45-982c5371c4d6"
      },
      "source": [
        "#Hyperbolic or tanh\n",
        "\n",
        "import matplotlib.pyplot as plt\n",
        "import numpy as np\n",
        "\n",
        "def tanh(x):\n",
        "    t=(np.exp(x)-np.exp(-x))/(np.exp(x)+np.exp(-x))\n",
        "    #dt=1-t**2\n",
        "    #return t,dt\n",
        "    return t\n",
        "z=np.arange(-4,4,0.01)\n",
        "#tanh(z)[0].size,tanh(z)[1].size\n",
        "tanh(z)"
      ],
      "execution_count": null,
      "outputs": [
        {
          "output_type": "execute_result",
          "data": {
            "text/plain": [
              "array([-9.99329300e-01, -9.99315755e-01, -9.99301937e-01, -9.99287841e-01,\n",
              "       -9.99273459e-01, -9.99258788e-01, -9.99243820e-01, -9.99228550e-01,\n",
              "       -9.99212972e-01, -9.99197079e-01, -9.99180866e-01, -9.99164325e-01,\n",
              "       -9.99147450e-01, -9.99130235e-01, -9.99112673e-01, -9.99094756e-01,\n",
              "       -9.99076477e-01, -9.99057829e-01, -9.99038805e-01, -9.99019397e-01,\n",
              "       -9.98999598e-01, -9.98979399e-01, -9.98958792e-01, -9.98937769e-01,\n",
              "       -9.98916322e-01, -9.98894443e-01, -9.98872122e-01, -9.98849350e-01,\n",
              "       -9.98826119e-01, -9.98802419e-01, -9.98778241e-01, -9.98753575e-01,\n",
              "       -9.98728412e-01, -9.98702741e-01, -9.98676552e-01, -9.98649835e-01,\n",
              "       -9.98622578e-01, -9.98594772e-01, -9.98566405e-01, -9.98537465e-01,\n",
              "       -9.98507942e-01, -9.98477824e-01, -9.98447098e-01, -9.98415752e-01,\n",
              "       -9.98383774e-01, -9.98351151e-01, -9.98317870e-01, -9.98283918e-01,\n",
              "       -9.98249281e-01, -9.98213945e-01, -9.98177898e-01, -9.98141123e-01,\n",
              "       -9.98103607e-01, -9.98065334e-01, -9.98026290e-01, -9.97986458e-01,\n",
              "       -9.97945824e-01, -9.97904370e-01, -9.97862081e-01, -9.97818939e-01,\n",
              "       -9.97774928e-01, -9.97730030e-01, -9.97684226e-01, -9.97637500e-01,\n",
              "       -9.97589832e-01, -9.97541203e-01, -9.97491594e-01, -9.97440986e-01,\n",
              "       -9.97389358e-01, -9.97336689e-01, -9.97282960e-01, -9.97228148e-01,\n",
              "       -9.97172232e-01, -9.97115190e-01, -9.97056999e-01, -9.96997635e-01,\n",
              "       -9.96937077e-01, -9.96875298e-01, -9.96812276e-01, -9.96747984e-01,\n",
              "       -9.96682398e-01, -9.96615491e-01, -9.96547238e-01, -9.96477610e-01,\n",
              "       -9.96406581e-01, -9.96334122e-01, -9.96260205e-01, -9.96184800e-01,\n",
              "       -9.96107878e-01, -9.96029408e-01, -9.95949359e-01, -9.95867700e-01,\n",
              "       -9.95784398e-01, -9.95699420e-01, -9.95612733e-01, -9.95524303e-01,\n",
              "       -9.95434094e-01, -9.95342072e-01, -9.95248199e-01, -9.95152439e-01,\n",
              "       -9.95054754e-01, -9.94955105e-01, -9.94853454e-01, -9.94749759e-01,\n",
              "       -9.94643982e-01, -9.94536078e-01, -9.94426008e-01, -9.94313726e-01,\n",
              "       -9.94199188e-01, -9.94082351e-01, -9.93963167e-01, -9.93841591e-01,\n",
              "       -9.93717573e-01, -9.93591067e-01, -9.93462021e-01, -9.93330385e-01,\n",
              "       -9.93196109e-01, -9.93059138e-01, -9.92919420e-01, -9.92776899e-01,\n",
              "       -9.92631520e-01, -9.92483226e-01, -9.92331960e-01, -9.92177661e-01,\n",
              "       -9.92020270e-01, -9.91859725e-01, -9.91695963e-01, -9.91528921e-01,\n",
              "       -9.91358533e-01, -9.91184733e-01, -9.91007454e-01, -9.90826625e-01,\n",
              "       -9.90642178e-01, -9.90454040e-01, -9.90262138e-01, -9.90066397e-01,\n",
              "       -9.89866741e-01, -9.89663094e-01, -9.89455376e-01, -9.89243506e-01,\n",
              "       -9.89027402e-01, -9.88806982e-01, -9.88582158e-01, -9.88352846e-01,\n",
              "       -9.88118956e-01, -9.87880397e-01, -9.87637078e-01, -9.87388905e-01,\n",
              "       -9.87135783e-01, -9.86877614e-01, -9.86614298e-01, -9.86345735e-01,\n",
              "       -9.86071822e-01, -9.85792453e-01, -9.85507521e-01, -9.85216917e-01,\n",
              "       -9.84920531e-01, -9.84618248e-01, -9.84309954e-01, -9.83995530e-01,\n",
              "       -9.83674858e-01, -9.83347814e-01, -9.83014274e-01, -9.82674112e-01,\n",
              "       -9.82327199e-01, -9.81973403e-01, -9.81612589e-01, -9.81244622e-01,\n",
              "       -9.80869363e-01, -9.80486669e-01, -9.80096396e-01, -9.79698398e-01,\n",
              "       -9.79292525e-01, -9.78878624e-01, -9.78456540e-01, -9.78026115e-01,\n",
              "       -9.77587187e-01, -9.77139594e-01, -9.76683167e-01, -9.76217737e-01,\n",
              "       -9.75743130e-01, -9.75259171e-01, -9.74765679e-01, -9.74262472e-01,\n",
              "       -9.73749363e-01, -9.73226164e-01, -9.72692682e-01, -9.72148719e-01,\n",
              "       -9.71594077e-01, -9.71028552e-01, -9.70451937e-01, -9.69864020e-01,\n",
              "       -9.69264589e-01, -9.68653424e-01, -9.68030303e-01, -9.67395001e-01,\n",
              "       -9.66747288e-01, -9.66086929e-01, -9.65413687e-01, -9.64727319e-01,\n",
              "       -9.64027580e-01, -9.63314219e-01, -9.62586980e-01, -9.61845605e-01,\n",
              "       -9.61089831e-01, -9.60319389e-01, -9.59534006e-01, -9.58733406e-01,\n",
              "       -9.57917306e-01, -9.57085421e-01, -9.56237458e-01, -9.55373123e-01,\n",
              "       -9.54492113e-01, -9.53594124e-01, -9.52678844e-01, -9.51745957e-01,\n",
              "       -9.50795143e-01, -9.49826076e-01, -9.48838423e-01, -9.47831850e-01,\n",
              "       -9.46806013e-01, -9.45760566e-01, -9.44695155e-01, -9.43609424e-01,\n",
              "       -9.42503008e-01, -9.41375538e-01, -9.40226640e-01, -9.39055933e-01,\n",
              "       -9.37863032e-01, -9.36647543e-01, -9.35409071e-01, -9.34147210e-01,\n",
              "       -9.32861553e-01, -9.31551685e-01, -9.30217183e-01, -9.28857621e-01,\n",
              "       -9.27472567e-01, -9.26061581e-01, -9.24624219e-01, -9.23160029e-01,\n",
              "       -9.21668554e-01, -9.20149332e-01, -9.18601893e-01, -9.17025761e-01,\n",
              "       -9.15420456e-01, -9.13785490e-01, -9.12120369e-01, -9.10424594e-01,\n",
              "       -9.08697658e-01, -9.06939051e-01, -9.05148254e-01, -9.03324743e-01,\n",
              "       -9.01467988e-01, -8.99577454e-01, -8.97652598e-01, -8.95692874e-01,\n",
              "       -8.93697727e-01, -8.91666599e-01, -8.89598924e-01, -8.87494133e-01,\n",
              "       -8.85351648e-01, -8.83170889e-01, -8.80951268e-01, -8.78692193e-01,\n",
              "       -8.76393067e-01, -8.74053288e-01, -8.71672247e-01, -8.69249333e-01,\n",
              "       -8.66783929e-01, -8.64275413e-01, -8.61723159e-01, -8.59126538e-01,\n",
              "       -8.56484915e-01, -8.53797653e-01, -8.51064110e-01, -8.48283640e-01,\n",
              "       -8.45455596e-01, -8.42579326e-01, -8.39654176e-01, -8.36679489e-01,\n",
              "       -8.33654607e-01, -8.30578869e-01, -8.27451611e-01, -8.24272170e-01,\n",
              "       -8.21039881e-01, -8.17754078e-01, -8.14414094e-01, -8.11019262e-01,\n",
              "       -8.07568917e-01, -8.04062391e-01, -8.00499022e-01, -7.96878144e-01,\n",
              "       -7.93199097e-01, -7.89461221e-01, -7.85663859e-01, -7.81806358e-01,\n",
              "       -7.77888067e-01, -7.73908340e-01, -7.69866536e-01, -7.65762018e-01,\n",
              "       -7.61594156e-01, -7.57362324e-01, -7.53065905e-01, -7.48704287e-01,\n",
              "       -7.44276867e-01, -7.39783051e-01, -7.35222253e-01, -7.30593896e-01,\n",
              "       -7.25897415e-01, -7.21132254e-01, -7.16297870e-01, -7.11393732e-01,\n",
              "       -7.06419320e-01, -7.01374131e-01, -6.96257673e-01, -6.91069470e-01,\n",
              "       -6.85809062e-01, -6.80476006e-01, -6.75069875e-01, -6.69590260e-01,\n",
              "       -6.64036770e-01, -6.58409036e-01, -6.52706706e-01, -6.46929450e-01,\n",
              "       -6.41076961e-01, -6.35148952e-01, -6.29145161e-01, -6.23065350e-01,\n",
              "       -6.16909303e-01, -6.10676833e-01, -6.04367777e-01, -5.97982000e-01,\n",
              "       -5.91519395e-01, -5.84979883e-01, -5.78363413e-01, -5.71669966e-01,\n",
              "       -5.64899553e-01, -5.58052216e-01, -5.51128029e-01, -5.44127099e-01,\n",
              "       -5.37049567e-01, -5.29895608e-01, -5.22665430e-01, -5.15359278e-01,\n",
              "       -5.07977433e-01, -5.00520211e-01, -4.92987967e-01, -4.85381091e-01,\n",
              "       -4.77700012e-01, -4.69945199e-01, -4.62117157e-01, -4.54216433e-01,\n",
              "       -4.46243610e-01, -4.38199315e-01, -4.30084211e-01, -4.21899005e-01,\n",
              "       -4.13644442e-01, -4.05321309e-01, -3.96930432e-01, -3.88472680e-01,\n",
              "       -3.79948962e-01, -3.71360228e-01, -3.62707468e-01, -3.53991712e-01,\n",
              "       -3.45214034e-01, -3.36375544e-01, -3.27477395e-01, -3.18520777e-01,\n",
              "       -3.09506921e-01, -3.00437097e-01, -2.91312612e-01, -2.82134813e-01,\n",
              "       -2.72905081e-01, -2.63624835e-01, -2.54295533e-01, -2.44918662e-01,\n",
              "       -2.35495750e-01, -2.26028352e-01, -2.16518061e-01, -2.06966500e-01,\n",
              "       -1.97375320e-01, -1.87746206e-01, -1.78080868e-01, -1.68381046e-01,\n",
              "       -1.58648504e-01, -1.48885034e-01, -1.39092448e-01, -1.29272584e-01,\n",
              "       -1.19427299e-01, -1.09558470e-01, -9.96679946e-02, -8.97577847e-02,\n",
              "       -7.98297691e-02, -6.98858903e-02, -5.99281035e-02, -4.99583750e-02,\n",
              "       -3.99786803e-02, -2.99910032e-02, -1.99973338e-02, -9.99966668e-03,\n",
              "       -8.52651283e-14,  9.99966668e-03,  1.99973338e-02,  2.99910032e-02,\n",
              "        3.99786803e-02,  4.99583750e-02,  5.99281035e-02,  6.98858903e-02,\n",
              "        7.98297691e-02,  8.97577847e-02,  9.96679946e-02,  1.09558470e-01,\n",
              "        1.19427299e-01,  1.29272584e-01,  1.39092448e-01,  1.48885034e-01,\n",
              "        1.58648504e-01,  1.68381046e-01,  1.78080868e-01,  1.87746206e-01,\n",
              "        1.97375320e-01,  2.06966500e-01,  2.16518061e-01,  2.26028352e-01,\n",
              "        2.35495750e-01,  2.44918662e-01,  2.54295533e-01,  2.63624835e-01,\n",
              "        2.72905081e-01,  2.82134813e-01,  2.91312612e-01,  3.00437097e-01,\n",
              "        3.09506921e-01,  3.18520777e-01,  3.27477395e-01,  3.36375544e-01,\n",
              "        3.45214034e-01,  3.53991712e-01,  3.62707468e-01,  3.71360228e-01,\n",
              "        3.79948962e-01,  3.88472680e-01,  3.96930432e-01,  4.05321309e-01,\n",
              "        4.13644442e-01,  4.21899005e-01,  4.30084211e-01,  4.38199315e-01,\n",
              "        4.46243610e-01,  4.54216433e-01,  4.62117157e-01,  4.69945199e-01,\n",
              "        4.77700012e-01,  4.85381091e-01,  4.92987967e-01,  5.00520211e-01,\n",
              "        5.07977433e-01,  5.15359278e-01,  5.22665430e-01,  5.29895608e-01,\n",
              "        5.37049567e-01,  5.44127099e-01,  5.51128029e-01,  5.58052216e-01,\n",
              "        5.64899553e-01,  5.71669966e-01,  5.78363413e-01,  5.84979883e-01,\n",
              "        5.91519395e-01,  5.97982000e-01,  6.04367777e-01,  6.10676833e-01,\n",
              "        6.16909303e-01,  6.23065350e-01,  6.29145161e-01,  6.35148952e-01,\n",
              "        6.41076961e-01,  6.46929450e-01,  6.52706706e-01,  6.58409036e-01,\n",
              "        6.64036770e-01,  6.69590260e-01,  6.75069875e-01,  6.80476006e-01,\n",
              "        6.85809062e-01,  6.91069470e-01,  6.96257673e-01,  7.01374131e-01,\n",
              "        7.06419320e-01,  7.11393732e-01,  7.16297870e-01,  7.21132254e-01,\n",
              "        7.25897415e-01,  7.30593896e-01,  7.35222253e-01,  7.39783051e-01,\n",
              "        7.44276867e-01,  7.48704287e-01,  7.53065905e-01,  7.57362324e-01,\n",
              "        7.61594156e-01,  7.65762018e-01,  7.69866536e-01,  7.73908340e-01,\n",
              "        7.77888067e-01,  7.81806358e-01,  7.85663859e-01,  7.89461221e-01,\n",
              "        7.93199097e-01,  7.96878144e-01,  8.00499022e-01,  8.04062391e-01,\n",
              "        8.07568917e-01,  8.11019262e-01,  8.14414094e-01,  8.17754078e-01,\n",
              "        8.21039881e-01,  8.24272170e-01,  8.27451611e-01,  8.30578869e-01,\n",
              "        8.33654607e-01,  8.36679489e-01,  8.39654176e-01,  8.42579326e-01,\n",
              "        8.45455596e-01,  8.48283640e-01,  8.51064110e-01,  8.53797653e-01,\n",
              "        8.56484915e-01,  8.59126538e-01,  8.61723159e-01,  8.64275413e-01,\n",
              "        8.66783929e-01,  8.69249333e-01,  8.71672247e-01,  8.74053288e-01,\n",
              "        8.76393067e-01,  8.78692193e-01,  8.80951268e-01,  8.83170889e-01,\n",
              "        8.85351648e-01,  8.87494133e-01,  8.89598924e-01,  8.91666599e-01,\n",
              "        8.93697727e-01,  8.95692874e-01,  8.97652598e-01,  8.99577454e-01,\n",
              "        9.01467988e-01,  9.03324743e-01,  9.05148254e-01,  9.06939051e-01,\n",
              "        9.08697658e-01,  9.10424594e-01,  9.12120369e-01,  9.13785490e-01,\n",
              "        9.15420456e-01,  9.17025761e-01,  9.18601893e-01,  9.20149332e-01,\n",
              "        9.21668554e-01,  9.23160029e-01,  9.24624219e-01,  9.26061581e-01,\n",
              "        9.27472567e-01,  9.28857621e-01,  9.30217183e-01,  9.31551685e-01,\n",
              "        9.32861553e-01,  9.34147210e-01,  9.35409071e-01,  9.36647543e-01,\n",
              "        9.37863032e-01,  9.39055933e-01,  9.40226640e-01,  9.41375538e-01,\n",
              "        9.42503008e-01,  9.43609424e-01,  9.44695155e-01,  9.45760566e-01,\n",
              "        9.46806013e-01,  9.47831850e-01,  9.48838423e-01,  9.49826076e-01,\n",
              "        9.50795143e-01,  9.51745957e-01,  9.52678844e-01,  9.53594124e-01,\n",
              "        9.54492113e-01,  9.55373123e-01,  9.56237458e-01,  9.57085421e-01,\n",
              "        9.57917306e-01,  9.58733406e-01,  9.59534006e-01,  9.60319389e-01,\n",
              "        9.61089831e-01,  9.61845605e-01,  9.62586980e-01,  9.63314219e-01,\n",
              "        9.64027580e-01,  9.64727319e-01,  9.65413687e-01,  9.66086929e-01,\n",
              "        9.66747288e-01,  9.67395001e-01,  9.68030303e-01,  9.68653424e-01,\n",
              "        9.69264589e-01,  9.69864020e-01,  9.70451937e-01,  9.71028552e-01,\n",
              "        9.71594077e-01,  9.72148719e-01,  9.72692682e-01,  9.73226164e-01,\n",
              "        9.73749363e-01,  9.74262472e-01,  9.74765679e-01,  9.75259171e-01,\n",
              "        9.75743130e-01,  9.76217737e-01,  9.76683167e-01,  9.77139594e-01,\n",
              "        9.77587187e-01,  9.78026115e-01,  9.78456540e-01,  9.78878624e-01,\n",
              "        9.79292525e-01,  9.79698398e-01,  9.80096396e-01,  9.80486669e-01,\n",
              "        9.80869363e-01,  9.81244622e-01,  9.81612589e-01,  9.81973403e-01,\n",
              "        9.82327199e-01,  9.82674112e-01,  9.83014274e-01,  9.83347814e-01,\n",
              "        9.83674858e-01,  9.83995530e-01,  9.84309954e-01,  9.84618248e-01,\n",
              "        9.84920531e-01,  9.85216917e-01,  9.85507521e-01,  9.85792453e-01,\n",
              "        9.86071822e-01,  9.86345735e-01,  9.86614298e-01,  9.86877614e-01,\n",
              "        9.87135783e-01,  9.87388905e-01,  9.87637078e-01,  9.87880397e-01,\n",
              "        9.88118956e-01,  9.88352846e-01,  9.88582158e-01,  9.88806982e-01,\n",
              "        9.89027402e-01,  9.89243506e-01,  9.89455376e-01,  9.89663094e-01,\n",
              "        9.89866741e-01,  9.90066397e-01,  9.90262138e-01,  9.90454040e-01,\n",
              "        9.90642178e-01,  9.90826625e-01,  9.91007454e-01,  9.91184733e-01,\n",
              "        9.91358533e-01,  9.91528921e-01,  9.91695963e-01,  9.91859725e-01,\n",
              "        9.92020270e-01,  9.92177661e-01,  9.92331960e-01,  9.92483226e-01,\n",
              "        9.92631520e-01,  9.92776899e-01,  9.92919420e-01,  9.93059138e-01,\n",
              "        9.93196109e-01,  9.93330385e-01,  9.93462021e-01,  9.93591067e-01,\n",
              "        9.93717573e-01,  9.93841591e-01,  9.93963167e-01,  9.94082351e-01,\n",
              "        9.94199188e-01,  9.94313726e-01,  9.94426008e-01,  9.94536078e-01,\n",
              "        9.94643982e-01,  9.94749759e-01,  9.94853454e-01,  9.94955105e-01,\n",
              "        9.95054754e-01,  9.95152439e-01,  9.95248199e-01,  9.95342072e-01,\n",
              "        9.95434094e-01,  9.95524303e-01,  9.95612733e-01,  9.95699420e-01,\n",
              "        9.95784398e-01,  9.95867700e-01,  9.95949359e-01,  9.96029408e-01,\n",
              "        9.96107878e-01,  9.96184800e-01,  9.96260205e-01,  9.96334122e-01,\n",
              "        9.96406581e-01,  9.96477610e-01,  9.96547238e-01,  9.96615491e-01,\n",
              "        9.96682398e-01,  9.96747984e-01,  9.96812276e-01,  9.96875298e-01,\n",
              "        9.96937077e-01,  9.96997635e-01,  9.97056999e-01,  9.97115190e-01,\n",
              "        9.97172232e-01,  9.97228148e-01,  9.97282960e-01,  9.97336689e-01,\n",
              "        9.97389358e-01,  9.97440986e-01,  9.97491594e-01,  9.97541203e-01,\n",
              "        9.97589832e-01,  9.97637500e-01,  9.97684226e-01,  9.97730030e-01,\n",
              "        9.97774928e-01,  9.97818939e-01,  9.97862081e-01,  9.97904370e-01,\n",
              "        9.97945824e-01,  9.97986458e-01,  9.98026290e-01,  9.98065334e-01,\n",
              "        9.98103607e-01,  9.98141123e-01,  9.98177898e-01,  9.98213945e-01,\n",
              "        9.98249281e-01,  9.98283918e-01,  9.98317870e-01,  9.98351151e-01,\n",
              "        9.98383774e-01,  9.98415752e-01,  9.98447098e-01,  9.98477824e-01,\n",
              "        9.98507942e-01,  9.98537465e-01,  9.98566405e-01,  9.98594772e-01,\n",
              "        9.98622578e-01,  9.98649835e-01,  9.98676552e-01,  9.98702741e-01,\n",
              "        9.98728412e-01,  9.98753575e-01,  9.98778241e-01,  9.98802419e-01,\n",
              "        9.98826119e-01,  9.98849350e-01,  9.98872122e-01,  9.98894443e-01,\n",
              "        9.98916322e-01,  9.98937769e-01,  9.98958792e-01,  9.98979399e-01,\n",
              "        9.98999598e-01,  9.99019397e-01,  9.99038805e-01,  9.99057829e-01,\n",
              "        9.99076477e-01,  9.99094756e-01,  9.99112673e-01,  9.99130235e-01,\n",
              "        9.99147450e-01,  9.99164325e-01,  9.99180866e-01,  9.99197079e-01,\n",
              "        9.99212972e-01,  9.99228550e-01,  9.99243820e-01,  9.99258788e-01,\n",
              "        9.99273459e-01,  9.99287841e-01,  9.99301937e-01,  9.99315755e-01])"
            ]
          },
          "metadata": {
            "tags": []
          },
          "execution_count": 5
        }
      ]
    },
    {
      "cell_type": "code",
      "metadata": {
        "id": "FQt9IfYN_hqd",
        "colab": {
          "base_uri": "https://localhost:8080/",
          "height": 283
        },
        "outputId": "c62c250d-fc7c-4903-bc66-95e47b9a2f70"
      },
      "source": [
        "plt.plot(z,tanh(z))"
      ],
      "execution_count": null,
      "outputs": [
        {
          "output_type": "execute_result",
          "data": {
            "text/plain": [
              "[<matplotlib.lines.Line2D at 0x7fbc25f85c90>]"
            ]
          },
          "metadata": {
            "tags": []
          },
          "execution_count": 6
        },
        {
          "output_type": "display_data",
          "data": {
            "image/png": "[encoded data removed]",
            "text/plain": [
              "<Figure size 432x288 with 1 Axes>"
            ]
          },
          "metadata": {
            "tags": [],
            "needs_background": "light"
          }
        }
      ]
    }
  ]
}